{
  "nbformat": 4,
  "nbformat_minor": 0,
  "metadata": {
    "colab": {
      "name": "python05_딕션너리.ipynb",
      "provenance": [],
      "collapsed_sections": [],
      "include_colab_link": true
    },
    "kernelspec": {
      "name": "python3",
      "display_name": "Python 3"
    }
  },
  "cells": [
    {
      "cell_type": "markdown",
      "metadata": {
        "id": "view-in-github",
        "colab_type": "text"
      },
      "source": [
        "<a href=\"https://colab.research.google.com/github/cybermin/PythonLV1/blob/main/python05_%EB%94%95%EC%85%98%EB%84%88%EB%A6%AC.ipynb\" target=\"_parent\"><img src=\"https://colab.research.google.com/assets/colab-badge.svg\" alt=\"Open In Colab\"/></a>"
      ]
    },
    {
      "cell_type": "markdown",
      "metadata": {
        "id": "NejVhuE-L8qh"
      },
      "source": [
        "## 딕션너리(dictionary)\n",
        "+ **특징**\n",
        " - 키(key)와 값(value) 쌍을 요소로 가짐\n",
        " - 중괄호({})로 작성되며 각 요소는 쉼표(,)로 구분\n",
        " - 순서 없음 \n",
        " - 키는 변경할 수 없으며 값은 변경가능 \n",
        "+ **딕션너리 접근**\n",
        " - 특정 요소 값 : 딕션너리명[키]\n",
        " - 요소 키 컬렉션  : 딕션너리명.keys()\n",
        " - 요소 값 컬렉션 : 딕션너리명.values()\n",
        " - 키와 요소 컬렉션은 list() 생성자로 리스트로 변환가능\n",
        "+ **요소 추가**\n",
        " - 딕션너리명[추가키]=값\n",
        "+ **요소 수정**\n",
        " - 딕션너리명[키]=값\n",
        "+ **요소 삭제**\n",
        " - del 딕션너리명[키]\n",
        " - 딕션너리명.pop[키]\n"
      ]
    },
    {
      "cell_type": "code",
      "metadata": {
        "id": "9fMatXc2LELF"
      },
      "source": [
        "#딕션너리\n",
        "dt = {'a':200, 'b':150, 'c':100}"
      ],
      "execution_count": null,
      "outputs": []
    },
    {
      "cell_type": "code",
      "metadata": {
        "id": "nM-yQHqNMeEJ",
        "colab": {
          "base_uri": "https://localhost:8080/",
          "height": 35
        },
        "outputId": "15ce86f7-5bee-4e26-80d6-50bea365279e"
      },
      "source": [
        "#딕션너리 키\n",
        "print(f'딕션너리 키 : {list(dt.keys())}')"
      ],
      "execution_count": null,
      "outputs": [
        {
          "output_type": "stream",
          "text": [
            "딕션너리 키 : ['a', 'b', 'c']\n"
          ],
          "name": "stdout"
        }
      ]
    },
    {
      "cell_type": "code",
      "metadata": {
        "id": "XxxcXWEEMiCB",
        "colab": {
          "base_uri": "https://localhost:8080/",
          "height": 35
        },
        "outputId": "ca812cc0-2e2f-4962-f176-5d2eb98b6222"
      },
      "source": [
        "#딕션너리 값 \n",
        "print(f'딕션너리 값 : {list(dt.values())}')"
      ],
      "execution_count": null,
      "outputs": [
        {
          "output_type": "stream",
          "text": [
            "딕션너리 값 : [200, 150, 100]\n"
          ],
          "name": "stdout"
        }
      ]
    },
    {
      "cell_type": "code",
      "metadata": {
        "id": "0CG42ZGGMljb",
        "colab": {
          "base_uri": "https://localhost:8080/",
          "height": 35
        },
        "outputId": "c1b8cba1-8f19-4783-9daf-b475dd06be36"
      },
      "source": [
        "#딕션너리 접근\n",
        "print(f'딕션너리 a 값 : {dt[\"a\"]}')"
      ],
      "execution_count": null,
      "outputs": [
        {
          "output_type": "stream",
          "text": [
            "딕션너리 a 값 : 200\n"
          ],
          "name": "stdout"
        }
      ]
    },
    {
      "cell_type": "code",
      "metadata": {
        "id": "o0HG57epMouc",
        "colab": {
          "base_uri": "https://localhost:8080/",
          "height": 35
        },
        "outputId": "42d573ad-5c98-40e5-e420-53f792ac96dd"
      },
      "source": [
        "#딕션너리 추가\n",
        "dt['d'] = 30\n",
        "print(dt)"
      ],
      "execution_count": null,
      "outputs": [
        {
          "output_type": "stream",
          "text": [
            "{'a': 200, 'b': 150, 'c': 100, 'd': 30}\n"
          ],
          "name": "stdout"
        }
      ]
    },
    {
      "cell_type": "code",
      "metadata": {
        "id": "jQ5YInNMMttH",
        "colab": {
          "base_uri": "https://localhost:8080/",
          "height": 35
        },
        "outputId": "dd88b68e-27a3-45a0-e80e-894e11936c5a"
      },
      "source": [
        "#딕션너리 수정\n",
        "dt['b'] = 1\n",
        "print(dt)"
      ],
      "execution_count": null,
      "outputs": [
        {
          "output_type": "stream",
          "text": [
            "{'a': 200, 'b': 1, 'c': 100, 'd': 30}\n"
          ],
          "name": "stdout"
        }
      ]
    },
    {
      "cell_type": "code",
      "metadata": {
        "id": "7BoSNs-LMvDf",
        "colab": {
          "base_uri": "https://localhost:8080/",
          "height": 35
        },
        "outputId": "cbfe06ee-9823-4e77-fa6a-044d2c2264ed"
      },
      "source": [
        "#딕션너리 삭제\n",
        "del dt['b']\n",
        "print(dt)"
      ],
      "execution_count": null,
      "outputs": [
        {
          "output_type": "stream",
          "text": [
            "{'a': 200, 'c': 100, 'd': 30}\n"
          ],
          "name": "stdout"
        }
      ]
    },
    {
      "cell_type": "markdown",
      "metadata": {
        "id": "Y4gku7fQM9Of"
      },
      "source": [
        "## 집합(set)\n",
        "+ **특징**\n",
        " - 중복 없는 요소로만 구성\n",
        " - 중괄호({}) 작성되며 각 요소는 쉼표(,)로 구분\n",
        " - 순서 없음\n",
        "+ **생성자 set()**\n",
        " - 리스트나 튜플의 중복 요소 제거 \n",
        "+ **요소 추가**\n",
        " - 집합명.add(요소) : 하나의 요소 추가\n",
        " - 집합명.update(추가집합) : 여러 요소를 추가\n",
        "+ **요소 삭제**\n",
        " - 집합명.remove(요소값) : 하나의 요소 삭제\n",
        " - 집합명.clear() : 모든 요소 삭제\n",
        "+ **집합 연산**\n",
        " - 교집합 : &\n",
        " - 합집합 : |\n",
        " - 차집합 : -"
      ]
    },
    {
      "cell_type": "code",
      "metadata": {
        "id": "72Wg8aBJN0A3"
      },
      "source": [
        "#집합\n",
        "a = (1, 2, 2, 3)\n",
        "b = [10, 20, 30, 30]"
      ],
      "execution_count": null,
      "outputs": []
    },
    {
      "cell_type": "code",
      "metadata": {
        "id": "nQnDXqVZN5yl",
        "colab": {
          "base_uri": "https://localhost:8080/",
          "height": 89
        },
        "outputId": "5d5132f4-b977-4e76-cb05-69a3d06f440f"
      },
      "source": [
        "#중복요소제거 및 형변환\n",
        "print(f'{a}의 type : {type(a)}')\n",
        "a = set(a)\n",
        "print(f'{a}의 type : {type(a)}')\n",
        "\n",
        "print(f'{b}의 type : {type(b)}')\n",
        "b = set(b)\n",
        "print(f'{b}의 type : {type(b)}')\n"
      ],
      "execution_count": null,
      "outputs": [
        {
          "output_type": "stream",
          "text": [
            "(1, 2, 2, 3)의 type : <class 'tuple'>\n",
            "{1, 2, 3}의 type : <class 'set'>\n",
            "[10, 20, 30, 30]의 type : <class 'list'>\n",
            "{10, 20, 30}의 type : <class 'set'>\n"
          ],
          "name": "stdout"
        }
      ]
    },
    {
      "cell_type": "code",
      "metadata": {
        "id": "tokcDNbyN7LP",
        "colab": {
          "base_uri": "https://localhost:8080/",
          "height": 53
        },
        "outputId": "e0170986-2054-42db-914c-158aebdb03dc"
      },
      "source": [
        "#요소 추가\n",
        "a.add(100)\n",
        "b.update({100,200,300})\n",
        "\n",
        "print(a)\n",
        "print(b)\n"
      ],
      "execution_count": null,
      "outputs": [
        {
          "output_type": "stream",
          "text": [
            "{1, 2, 3, 100}\n",
            "{20, 100, 200, 10, 300, 30}\n"
          ],
          "name": "stdout"
        }
      ]
    },
    {
      "cell_type": "code",
      "metadata": {
        "id": "krd9zplaN-jJ",
        "colab": {
          "base_uri": "https://localhost:8080/",
          "height": 53
        },
        "outputId": "552fc054-6414-4cf6-e62c-596891db3191"
      },
      "source": [
        "#요소 삭제\n",
        "a.remove(100)\n",
        "print(a)\n",
        "\n",
        "a.clear()\n",
        "print(a)"
      ],
      "execution_count": null,
      "outputs": [
        {
          "output_type": "stream",
          "text": [
            "{1, 2, 3}\n",
            "set()\n"
          ],
          "name": "stdout"
        }
      ]
    },
    {
      "cell_type": "code",
      "metadata": {
        "id": "QJIgwrl2ODa1",
        "colab": {
          "base_uri": "https://localhost:8080/",
          "height": 89
        },
        "outputId": "a6d6f701-fa73-4b4d-b816-3bfda6672f04"
      },
      "source": [
        "#집합 연산\n",
        "a.update({100,200,500})\n",
        "print(f'a집합 = {a} , b집합 = {b}')\n",
        "print(f'교집합 = {a&b}')\n",
        "print(f'합집합 = {a|b}')\n",
        "print(f'차집합 = {a-b}')\n",
        "\n"
      ],
      "execution_count": null,
      "outputs": [
        {
          "output_type": "stream",
          "text": [
            "a집합 = {200, 100, 500} , b집합 = {20, 100, 200, 10, 300, 30}\n",
            "교집합 = {200, 100}\n",
            "합집합 = {100, 200, 10, 300, 500, 20, 30}\n",
            "차집합 = {500}\n"
          ],
          "name": "stdout"
        }
      ]
    },
    {
      "cell_type": "markdown",
      "metadata": {
        "id": "3PY2tmTxOIGT"
      },
      "source": [
        "## 컬렉션 데이터\n",
        "+ 컬렉션 데이터 모든 요소에 접근 \n",
        "+ `for 요소변수 in 컬렉션명 `:\n",
        "\n",
        "\n",
        "### **zip()**\n",
        "+ 동일한 개수로 이루어진 자료형을 묶어 주는 역할을 하는 함수"
      ]
    },
    {
      "cell_type": "code",
      "metadata": {
        "id": "XFrB44liOe9m",
        "colab": {
          "base_uri": "https://localhost:8080/"
        },
        "outputId": "691aff2d-c233-4ed1-e640-9db60f4471e9"
      },
      "source": [
        "#리스트 요소 접근\n",
        "lst = [10,50,30]\n",
        "\n",
        "for item in lst :\n",
        "    print(item, end=' ')\n",
        "print()\n",
        "\n",
        "#튜플 요소 접근\n",
        "\n",
        "tp = ('a','b','c')\n",
        "for item in tp :\n",
        "    print(item, end=' ')\n",
        "print()"
      ],
      "execution_count": null,
      "outputs": [
        {
          "output_type": "stream",
          "text": [
            "10 50 30 \n",
            "a b c \n"
          ],
          "name": "stdout"
        }
      ]
    },
    {
      "cell_type": "code",
      "metadata": {
        "id": "n7Na_99FO9I1",
        "colab": {
          "base_uri": "https://localhost:8080/",
          "height": 89
        },
        "outputId": "8df67ec9-d481-4c97-e32a-d6f4e03f4a60"
      },
      "source": [
        "#딕션너리 요소접금 \n",
        "dt = dict(zip(tp,lst))\n",
        "print(dt)\n",
        "\n",
        "for item in dt :\n",
        "    print(f'{item} => {dt[item]}')"
      ],
      "execution_count": null,
      "outputs": [
        {
          "output_type": "stream",
          "text": [
            "{'a': 10, 'b': 50, 'c': 30}\n",
            "a => 10\n",
            "b => 50\n",
            "c => 30\n"
          ],
          "name": "stdout"
        }
      ]
    },
    {
      "cell_type": "markdown",
      "metadata": {
        "id": "UWuyNMkqOkbm"
      },
      "source": [
        "## 내장함수\n",
        "+ **len(컬렉션명)**\n",
        " - 컬렉션 요소 개수\n",
        "+ **max(컬렉션명)**\n",
        " - 가장 큰 요소 값 반환\n",
        " - 딕션너리인 경우는 키 값 중 가장 큰 요소 반환\n",
        "+ **min(컬렉션명)**\n",
        " - 가장 작은 요소 값 반환\n",
        " - 딕션너리인 경우는 키 값 중 가장 작은 요소 반환\n",
        "+ **sum(컬렉션명)**\n",
        " - 수치 요소로 이루어진 컬렉션 요소의 합\n",
        " - 딕션너리인 경우는 키 값의 합\n",
        "+ **sorted(컬렉션명)**\n",
        " - 컬렉션요소 정렬\n",
        " - 딕션너리인 경우는 키 값을 정렬하여 키 리스트 반환\n"
      ]
    },
    {
      "cell_type": "code",
      "metadata": {
        "id": "ttxhLTPpP4BV",
        "colab": {
          "base_uri": "https://localhost:8080/",
          "height": 125
        },
        "outputId": "0e5df470-38f5-4b7c-9929-ad05dd96726e"
      },
      "source": [
        "#내장함수 \n",
        "print(f'{lst}의 요소 개수 : {len(lst)}')\n",
        "print(f'{lst}의 최대값 : {max(lst)}')\n",
        "print(f'{lst}의 최소값 : {min(lst)}')\n",
        "print(f'{lst}의 합계 : {sum(lst)}')\n",
        "print(f'{lst}의 정렬 : {sorted(lst)}')\n",
        "print(lst)\n"
      ],
      "execution_count": null,
      "outputs": [
        {
          "output_type": "stream",
          "text": [
            "[10, 50, 30]의 요소 개수 : 3\n",
            "[10, 50, 30]의 최대값 : 50\n",
            "[10, 50, 30]의 최소값 : 10\n",
            "[10, 50, 30]의 합계 : 90\n",
            "[10, 50, 30]의 정렬 : [10, 30, 50]\n",
            "[10, 50, 30]\n"
          ],
          "name": "stdout"
        }
      ]
    },
    {
      "cell_type": "markdown",
      "metadata": {
        "id": "oyd3U2-fQHrC"
      },
      "source": [
        "\n",
        "\n",
        "---\n",
        "\n",
        "\n",
        "### **해결문제**\n",
        "\n",
        "---\n",
        "기상청에서 제공하는 3월 1일에서 3월 31일까지의 평균기온 정보입니다. \u000b다음을 구하시오.단, 평균기온이 동일한 날은 없음\n",
        "+ 최고 기온인 날\n",
        "+ 최저 기온인 날\n",
        "+ 3월 평균 기온\n",
        "\n",
        "\n",
        " \n",
        "\n"
      ]
    },
    {
      "cell_type": "code",
      "metadata": {
        "id": "_A1Rx91KQhrS"
      },
      "source": [
        "#부산 3월 기온\n",
        "temp = [10.8, 8.5, 8.7, 7.9, 5.1, \n",
        "        8.1, 8.2, 10.4, 11, 9.9, \n",
        "        7.8, 9.5, 11.6, 8.2, 7.7, \n",
        "        6.6, 11.1, 12.2, 12.6, 10.4, \n",
        "        13.7, 14.1, 12.6, 11.5, 13, \n",
        "        14.5, 13.7, 9.4, 10.4, 11.6, 12.9]\n",
        "\n"
      ],
      "execution_count": null,
      "outputs": []
    },
    {
      "cell_type": "code",
      "metadata": {
        "id": "h-LQvSw3qeUU"
      },
      "source": [
        ""
      ],
      "execution_count": null,
      "outputs": []
    },
    {
      "cell_type": "markdown",
      "metadata": {
        "id": "JMefmHypqc3b"
      },
      "source": [
        "---\n",
        "\n",
        "\n",
        "### **해결문제**\n",
        "\n",
        "---\n",
        "지역별 식중독 지수와 대응요령 딕션너리를 참고하여 해당 지역을 입력 받아서 대응요령을 출력하시오.\n",
        "\n",
        "\n",
        "+ 위험 : 86 이상 \n",
        " - 설사, 구토 등 식중독 의심 증상이 있으면 의료기관을 방문하여 의사 지시에 따름\n",
        "\n",
        "+ 경고:71 이상 86 미만\n",
        " - 조리도구는 세척, 소독 등을 거쳐 세균오염을 방지하고 유통기한, 보관방법 등을 확인하여 음식물 조리. 보관에 각별히 주의하여야 함\n",
        "\n",
        "+ 주의:55 이상 71 미만\n",
        " - 조리음식은 중심부까지 75℃(어패류 85℃)로 1분 이상 완전히 익히고 외부로 운반할 때에는 가급적 아이스박스 등을 이용하여 10℃이하에서 보관 및 운반\n",
        "\n",
        "+ 관심:55 미만\n",
        " - 화장실 사용 후, 귀가 후, 조리 전에 손 씻기를 생활화\n",
        "\n",
        "\n"
      ]
    },
    {
      "cell_type": "code",
      "metadata": {
        "id": "hx2h1CQSqnzI"
      },
      "source": [
        "areadata = {'서울시':57, '부산시':62, '대구시':59, \n",
        "            '인천시':59, '강화군':58, '서해5도' : 64, \n",
        "            '광주시' :62, '대전시':60, '울산시':53, \n",
        "            '세종시':58\t}\n",
        "\n",
        "report = {'위험': '설사, 구토 등 식중독 의심 증상이 있으면 의료기관을 방문하여 의사 지시에 따름',\n",
        "         '경고': '조리도구는 세척, 소독 등을 거쳐 세균오염을 방지하고 유통기한, 보관방법 등을 확인하여 음식물 조리. 보관에 각별히 주의하여야 함',\n",
        "         '주의': '조리음식은 중심부까지 75℃(어패류 85℃)로 1분 이상 완전히 익히고 외부로 운반할 때에는 가급적 아이스박스 등을 이용하여 10℃이하에서 보관 및 운반',\n",
        "         '관심': '화장실 사용 후, 귀가 후, 조리 전에 손 씻기를 생활화'}"
      ],
      "execution_count": null,
      "outputs": []
    }
  ]
}