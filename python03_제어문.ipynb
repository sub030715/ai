{
 "cells": [
  {
   "cell_type": "markdown",
   "metadata": {
    "colab_type": "text",
    "id": "view-in-github"
   },
   "source": [
    "<a href=\"https://colab.research.google.com/github/cybermin/PythonLV1/blob/main/python03_%EC%A0%9C%EC%96%B4%EB%AC%B8.ipynb\" target=\"_parent\"><img src=\"https://colab.research.google.com/assets/colab-badge.svg\" alt=\"Open In Colab\"/></a>"
   ]
  },
  {
   "cell_type": "markdown",
   "metadata": {
    "id": "OeoNltmRAdSn"
   },
   "source": [
    "## 조건문\n",
    "프로그램의 실행 흐름을 바꾸고자 할 때 사용하는 제어문\n",
    " - 사용자가 지정한 조건에 따라 실행할 문장을 결정함\n",
    "```python\n",
    "if (조건식) : \n",
    "  명령문\n",
    "elif (조건식) :\n",
    "  명령문\n",
    "else :\n",
    "  명령문\n",
    "```\n",
    "\n",
    "  - if 조건문 뒤에는 반드시 콜론(:)\n",
    "  - 바로 아래 문장부터 **if문에 속하는 모든 문장에 들여쓰기(indentation)**를 해야 함\n",
    "  - 파이썬에는 다른 언어에 있는 switch 문이 존재하지 않음 : if...elif...elif... 문으로 수행\n",
    "  - pass  : def 문이나 if 문처럼 코드 블록을 본문으로 갖는 표현에서 본문을 비워 둘 때 사용"
   ]
  },
  {
   "cell_type": "code",
   "execution_count": null,
   "metadata": {
    "colab": {
     "base_uri": "https://localhost:8080/",
     "height": 53
    },
    "id": "aS31_bgaR4dn",
    "outputId": "2bdd7b19-abd3-48e6-f715-6bcba63a8247"
   },
   "outputs": [
    {
     "name": "stdout",
     "output_type": "stream",
     "text": [
      "값입력 : 31\n",
      "31는 홀수\n"
     ]
    }
   ],
   "source": [
    "# 조건문\n",
    "# 짝수 홀수 구분 \n",
    "x = int(input('값입력 : '))\n",
    "\n",
    "if x % 2 == 0 :\n",
    "    print(f'{x}는 짝수')\n",
    "else :\n",
    "    print(f'{x}는 홀수')"
   ]
  },
  {
   "cell_type": "code",
   "execution_count": null,
   "metadata": {
    "colab": {
     "base_uri": "https://localhost:8080/",
     "height": 53
    },
    "id": "SgVs11nGYCeO",
    "outputId": "d5da5d5b-dd7e-42af-8c0c-94585e05ee50"
   },
   "outputs": [
    {
     "name": "stdout",
     "output_type": "stream",
     "text": [
      "성적입력 : 88\n",
      "88.0는 Pass\n"
     ]
    }
   ],
   "source": [
    "# 성적처리 \n",
    "x = float(input('성적입력 : '))\n",
    "\n",
    "if x >= 70 :\n",
    "    print(f'{x}는 Pass')\n",
    "elif x >= 60 :\n",
    "    print(f'{x}는 재시험')\n",
    "else :\n",
    "    print(f'{x}는 fail')\n"
   ]
  },
  {
   "cell_type": "markdown",
   "metadata": {
    "id": "ugOOyJcZL7C4"
   },
   "source": [
    "\n",
    "+ 비교연산자 \n",
    "  + < ,  >,  >=, <=, == , !=\n",
    "\n",
    "+ 논리연산자\n",
    "  + and, or, not\n"
   ]
  },
  {
   "cell_type": "code",
   "execution_count": null,
   "metadata": {
    "id": "Mpak5myULP1a"
   },
   "outputs": [],
   "source": [
    "x = 10\n",
    "y = 20"
   ]
  },
  {
   "cell_type": "code",
   "execution_count": null,
   "metadata": {
    "colab": {
     "base_uri": "https://localhost:8080/",
     "height": 89
    },
    "id": "ijnkSmAsMJTu",
    "outputId": "fee30694-90d7-44eb-bbae-3a5a2263596e"
   },
   "outputs": [
    {
     "name": "stdout",
     "output_type": "stream",
     "text": [
      "10 > 20 = False\n",
      "10 < 20 = True\n",
      "10 == 20 = False\n",
      "10 != 20 = True\n"
     ]
    }
   ],
   "source": [
    "#비교연산자 \n",
    "print(f'{x} > {y} = { x > y }')\n",
    "print(f'{x} < {y} = { x < y }')\n",
    "print(f'{x} == {y} = { x== y }')\n",
    "print(f'{x} != {y} = { x!= y }')"
   ]
  },
  {
   "cell_type": "code",
   "execution_count": null,
   "metadata": {
    "colab": {
     "base_uri": "https://localhost:8080/",
     "height": 71
    },
    "id": "EOmmm613M35h",
    "outputId": "71bdf707-453c-4944-d41f-0c7b1325d1d5"
   },
   "outputs": [
    {
     "name": "stdout",
     "output_type": "stream",
     "text": [
      "False\n",
      "True\n",
      "True\n"
     ]
    }
   ],
   "source": [
    "#논리연산자\n",
    "print(f'{x > 10 and y > 10}')\n",
    "print(f'{x > 10 or y > 10}')\n",
    "print(f'{not x > 10 }')"
   ]
  },
  {
   "cell_type": "markdown",
   "metadata": {
    "id": "q445-fSHNofR"
   },
   "source": [
    "## 멤버십 연산자 : in, not in\n",
    "+ 문자열이나 리스트나 튜플과 같이 연속적인 자료구조에 속한 멤버를 확인하기 위한 연산자"
   ]
  },
  {
   "cell_type": "code",
   "execution_count": null,
   "metadata": {
    "colab": {
     "base_uri": "https://localhost:8080/",
     "height": 35
    },
    "id": "1tzLShPNNsqe",
    "outputId": "e66f0ba4-9008-4b60-fcd4-7a8b9fd5a41a"
   },
   "outputs": [
    {
     "data": {
      "text/plain": [
       "True"
      ]
     },
     "execution_count": 10,
     "metadata": {
      "tags": []
     },
     "output_type": "execute_result"
    }
   ],
   "source": [
    "str = '안녕하세요.'\n",
    "'안' in str"
   ]
  },
  {
   "cell_type": "markdown",
   "metadata": {
    "id": "6vilRTKoO7RK"
   },
   "source": [
    "## 반복문 - for\n",
    "+ 컬렉션으로부터 하나씩 요소(element)를 가져와, 루프 내의 문장들을 실행"
   ]
  },
  {
   "cell_type": "markdown",
   "metadata": {
    "id": "jSGL8AHSQAQ-"
   },
   "source": [
    "+ **range() 함수**\n",
    "```python\n",
    "range(시작숫자, 종료숫자, step)\n",
    "```\n",
    "  + 결과는 시작숫자부터 종료숫자 바로 앞 숫자까지 컬렉션 생성\n",
    "  + 값을 확인하기 위해서는 순서가 있는 리스트나 튜플 컬렉션으로 변환해야 함\n",
    "  + 시작숫자를 생략하면 0부터 생성\n",
    "  + step을 생략하면 1씩 증가\n"
   ]
  },
  {
   "cell_type": "code",
   "execution_count": 8,
   "metadata": {},
   "outputs": [
    {
     "name": "stdout",
     "output_type": "stream",
     "text": [
      "안\n",
      "녕\n",
      "하\n",
      "세\n",
      "요\n"
     ]
    }
   ],
   "source": [
    "text='안녕하세요'\n",
    "for t in text:\n",
    "    print(t)"
   ]
  },
  {
   "cell_type": "code",
   "execution_count": 12,
   "metadata": {},
   "outputs": [
    {
     "name": "stdout",
     "output_type": "stream",
     "text": [
      "몇단을 출력할까요:8\n",
      "<8단>\n",
      "====================\n",
      "8*1=8\n",
      "8*2=16\n",
      "8*3=24\n",
      "8*4=32\n",
      "8*5=40\n",
      "8*6=48\n",
      "8*7=56\n",
      "8*8=64\n",
      "8*9=72\n"
     ]
    }
   ],
   "source": [
    "# 숫자를 입력받아 구구단을 출력\n",
    "dan=int(input('몇단을 출력할까요:'))\n",
    "print(f'<{dan}단>')\n",
    "print('='*20)\n",
    "for i in range(1,10):\n",
    "    print(f'{dan}*{i}={dan*i}')"
   ]
  },
  {
   "cell_type": "code",
   "execution_count": 15,
   "metadata": {
    "colab": {
     "base_uri": "https://localhost:8080/"
    },
    "id": "kwRAvaJsQnIK",
    "outputId": "e26da6c2-67f7-4e56-a2ce-a21a0cf9dba3"
   },
   "outputs": [
    {
     "name": "stdout",
     "output_type": "stream",
     "text": [
      "12 24 36 48 "
     ]
    }
   ],
   "source": [
    "# 1에서 50까지 숫자 중의 3의 배수이면서 4의 배수인 수를 출력\n",
    "\n",
    "for i in range(1, 51) :\n",
    "  if i % 3 == 0 and i % 4 == 0 :\n",
    "    print(i, end = ' ')"
   ]
  },
  {
   "cell_type": "markdown",
   "metadata": {
    "id": "dr424pzHW-N1"
   },
   "source": [
    "## **반복문 while**\n",
    "+ while 키워드 다음의 조건식이 참일 경우 계속 while 안의 블럭을 실행"
   ]
  },
  {
   "cell_type": "code",
   "execution_count": null,
   "metadata": {
    "colab": {
     "base_uri": "https://localhost:8080/"
    },
    "id": "jea71glDQo3v",
    "outputId": "9928a3d7-050b-4aa9-a893-19a5278e75e2"
   },
   "outputs": [
    {
     "name": "stdout",
     "output_type": "stream",
     "text": [
      "12 24 36 48 "
     ]
    }
   ],
   "source": [
    "i = 0 \n",
    "while i < 50 :\n",
    "  i = i + 1\n",
    "  if i % 3 != 0 or i % 4 != 0 : continue\n",
    "  \n",
    "  print(i, end = ' ')"
   ]
  },
  {
   "cell_type": "code",
   "execution_count": 19,
   "metadata": {
    "colab": {
     "base_uri": "https://localhost:8080/",
     "height": 107
    },
    "id": "If3Is_HFXf9y",
    "outputId": "8e97e116-217a-47d1-f7fd-1128e19ec620"
   },
   "outputs": [
    {
     "name": "stdout",
     "output_type": "stream",
     "text": [
      "1\n",
      "2\n",
      "3\n",
      "4\n",
      "5\n"
     ]
    }
   ],
   "source": [
    "i = 1\n",
    "while i <= 5 :\n",
    "    print(i)\n",
    "    i = i + 1"
   ]
  },
  {
   "cell_type": "code",
   "execution_count": 20,
   "metadata": {},
   "outputs": [
    {
     "name": "stdout",
     "output_type": "stream",
     "text": [
      "숫자를 입력하세요:8\n",
      "8단\n",
      "8*1=8\n",
      "8*2=16\n",
      "8*3=24\n",
      "8*4=32\n",
      "8*5=40\n",
      "8*6=48\n",
      "8*7=56\n",
      "8*8=64\n",
      "8*9=72\n"
     ]
    }
   ],
   "source": [
    "n=int(input('숫자를 입력하세요:'))\n",
    "print(f'{n}단')\n",
    "i=1\n",
    "while i<=9:\n",
    "    print(f'{n}*{i}={n*i}')\n",
    "    i=i+1\n"
   ]
  },
  {
   "cell_type": "markdown",
   "metadata": {
    "id": "l72yo2UxX2HS"
   },
   "source": [
    "### **break 문**\n",
    "+ 반복문 안에서 루프를 빠져나오기 위해 을 사용\n"
   ]
  },
  {
   "cell_type": "markdown",
   "metadata": {
    "id": "sKA8HKwcobj2"
   },
   "source": [
    "\n",
    "### **continue문**\n",
    "+ 루프 블럭의 나머지 문장들을 실행하지 않고 다음 루프로 직접 돌아가게 함 "
   ]
  },
  {
   "cell_type": "code",
   "execution_count": null,
   "metadata": {
    "colab": {
     "base_uri": "https://localhost:8080/"
    },
    "id": "ckVnUsahYJej",
    "outputId": "df8dcbbd-ef5d-4245-f4c4-d694c2851111"
   },
   "outputs": [
    {
     "name": "stdout",
     "output_type": "stream",
     "text": [
      "1\n",
      "3\n",
      "4\n"
     ]
    }
   ],
   "source": [
    "i = 0\n",
    "while i <= 5 :\n",
    "    i = i + 1\n",
    "    if i == 2 :  continue\n",
    "    \n",
    "    print(i)\n",
    "    \n",
    "    if i == 4 : break"
   ]
  },
  {
   "cell_type": "markdown",
   "metadata": {
    "id": "vgdCPWj5t31t"
   },
   "source": [
    "\n",
    "---\n",
    "## **해결문제**\n",
    "\n",
    "\n",
    "---\n",
    "가로와 세로를 입력 받아서 정사각형인지 직사각형인지 판단하고 면적을 구하시오. \n",
    "\n"
   ]
  },
  {
   "cell_type": "code",
   "execution_count": null,
   "metadata": {
    "id": "_jKiXOrGt9Gp"
   },
   "outputs": [],
   "source": []
  },
  {
   "cell_type": "markdown",
   "metadata": {
    "id": "qqfngTIen-02"
   },
   "source": [
    "---\n",
    "## **해결문제**\n",
    "\n",
    "\n",
    "---\n",
    "n이하의 피보나치 수열을 출력하시오.\n",
    " \n",
    " 예) 1000이하\n",
    " 0, 1, 1, 2, 3, 5, 8, 13, 21, 34, 55, 89, 144, 233, 377, 610, 987"
   ]
  },
  {
   "cell_type": "code",
   "execution_count": null,
   "metadata": {
    "id": "yStr4M_YoBF5"
   },
   "outputs": [],
   "source": [
    "n = int(input())\n",
    "a, b = 0, 1\n",
    "\n",
    "while a < n :\n",
    "  print(a, end=' ')\n",
    "  a, b = b , a+b"
   ]
  }
 ],
 "metadata": {
  "colab": {
   "collapsed_sections": [],
   "include_colab_link": true,
   "name": "python03_제어문.ipynb",
   "provenance": []
  },
  "kernelspec": {
   "display_name": "Python 3",
   "language": "python",
   "name": "python3"
  },
  "language_info": {
   "codemirror_mode": {
    "name": "ipython",
    "version": 3
   },
   "file_extension": ".py",
   "mimetype": "text/x-python",
   "name": "python",
   "nbconvert_exporter": "python",
   "pygments_lexer": "ipython3",
   "version": "3.7.10"
  }
 },
 "nbformat": 4,
 "nbformat_minor": 1
}
