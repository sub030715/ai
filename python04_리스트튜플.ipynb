{
  "nbformat": 4,
  "nbformat_minor": 0,
  "metadata": {
    "colab": {
      "name": "python04_리스트튜플.ipynb",
      "provenance": [],
      "collapsed_sections": [],
      "include_colab_link": true
    },
    "kernelspec": {
      "name": "python3",
      "display_name": "Python 3"
    }
  },
  "cells": [
    {
      "cell_type": "markdown",
      "metadata": {
        "id": "view-in-github",
        "colab_type": "text"
      },
      "source": [
        "<a href=\"https://colab.research.google.com/github/cybermin/PythonLV1/blob/main/python04_%EB%A6%AC%EC%8A%A4%ED%8A%B8%ED%8A%9C%ED%94%8C.ipynb\" target=\"_parent\"><img src=\"https://colab.research.google.com/assets/colab-badge.svg\" alt=\"Open In Colab\"/></a>"
      ]
    },
    {
      "cell_type": "markdown",
      "metadata": {
        "id": "PzmdHx8x8xoV"
      },
      "source": [
        "## **컬렉션자료형(collection data type)**\n",
        "+ 여러 요소를 묶어서 처리할 수 있는 자료형 \n",
        "+ 각 요소에 접근하는 방법이 제공\n",
        "\n",
        "![대체 텍스트](https://drive.google.com/uc?export=view&id=1qNHKZPJv546haViE6KBY3kg8gUlHJm_F)"
      ]
    },
    {
      "cell_type": "markdown",
      "metadata": {
        "id": "yCrF5QdUHZBj"
      },
      "source": [
        "## **리스트(list)**\n",
        "\n",
        "+ **특징**\n",
        " - 리스트의 각 요소는 순서를 가지고 있음\n",
        " - 대괄호([])로 작성되며 각 요소는 쉼표(,)로 구분\n",
        " - 요소를 추가, 수정, 삭제 가능\n",
        "+ **리스트 생성**\n",
        " - []나 리스트 함수\n",
        "+ **인덱싱**\n",
        " - 요소의 선택은 0부터 시작되는 인덱스로 접근\n",
        " - 리스트명[인덱스]\n",
        "+ **슬라이싱**\n",
        " - 요소의 일부분 선택\n",
        " - 리스트명[시작인덱스:종료인덱스] : 종료인덱스는 포함되지 않음\n",
        "+ **리스트 연산** \n",
        " - $+$ 연산 : 리스트와 리스트 연결\n",
        " - $*$ 연산 : 리스트 요소 반복\n",
        "\n",
        "+ **리스트 추가**\n",
        " - 리스트명.append(추가요소) : 마지막에 추가\n",
        " - 리스트명.insert(인덱스, 추가요소) : 해당 인덱스에 요소 추가\n",
        "+ **리스트 삭제**\n",
        " - 리스트명.pop() : 마지막 요소 삭제\n",
        " - 리스트명.pop(인덱스) : 해당 인덱스 요소 삭제\n",
        " - 리스트명.remove(요소값) : 해당 요소값 삭제\n",
        " - 해당 값이 없으면 오류\n",
        "+ **리스트 수정** \n",
        " - 리스트명[인덱스]=변경값\n",
        "+ **리스트 위치 반환**\n",
        " - 리스트명.index(요소값)\n",
        " - 해당 요소값의 위치를 반환\n",
        " - 여러 개 요소가 존재하면 첫번째 위치 반환하고 없으면 오류\n",
        "+ **리스트 요소 개수 구하기**\n",
        " - 리스트명.count(요소값)\n",
        "+ **리스트 정렬**\n",
        " - 리스트명.sort() : 오름차순\n",
        " - 리스트명.sort(reverse=True): 내림차순\n",
        "+ **리스트 뒤집기**\n",
        " - 리스트명.revers() : 요소를 역순으로 뒤집어 줌\n"
      ]
    },
    {
      "cell_type": "code",
      "metadata": {
        "id": "TH4iPH_nEXXH",
        "colab": {
          "base_uri": "https://localhost:8080/",
          "height": 71
        },
        "outputId": "b11eeaac-34a1-47bb-910d-f9315ecbe902"
      },
      "source": [
        "# 리스트 생성 : []나 리스트 함수\n",
        "lst = []\n",
        "print(lst)\n",
        "lst = list()\n",
        "print(lst)\n",
        "lst = [10, 30, 20]\n",
        "print(lst)\n"
      ],
      "execution_count": null,
      "outputs": [
        {
          "output_type": "stream",
          "text": [
            "[]\n",
            "[]\n",
            "[10, 30, 20]\n"
          ],
          "name": "stdout"
        }
      ]
    },
    {
      "cell_type": "code",
      "metadata": {
        "id": "c4oDyT6zItR9",
        "colab": {
          "base_uri": "https://localhost:8080/",
          "height": 71
        },
        "outputId": "70446037-034c-487d-cca1-c6707659bdcf"
      },
      "source": [
        "# 인덱싱 : 요소의 선택은 0부터 시작되는 인덱스로 접근\n",
        "print(f'첫번째 요소 :{lst[0]}')\n",
        "print(f'마지막 요소 :{lst[-1]}')\n",
        "\n",
        "# 슬라이싱 : 요소의 일부분 선택\n",
        "print(lst[:2])"
      ],
      "execution_count": null,
      "outputs": [
        {
          "output_type": "stream",
          "text": [
            "첫번째 요소 :10\n",
            "마지막 요소 :20\n",
            "[10, 30]\n"
          ],
          "name": "stdout"
        }
      ]
    },
    {
      "cell_type": "code",
      "metadata": {
        "id": "_zb8VQfwIyVX",
        "colab": {
          "base_uri": "https://localhost:8080/",
          "height": 53
        },
        "outputId": "160d7dd6-1e8f-408e-f431-66d612bdcf36"
      },
      "source": [
        "# 리스트 연산 \n",
        "# + 연산 : 리스트와 리스트 연결\n",
        "# * 연산 : 리스트 요소 반복\n",
        "lst2 = [100, 200]\n",
        "lst = lst + lst2\n",
        "print(lst)\n",
        "\n",
        "lst2 = lst2 * 3\n",
        "print(lst2)"
      ],
      "execution_count": null,
      "outputs": [
        {
          "output_type": "stream",
          "text": [
            "[10, 30, 20, 100, 200]\n",
            "[100, 200, 100, 200, 100, 200]\n"
          ],
          "name": "stdout"
        }
      ]
    },
    {
      "cell_type": "code",
      "metadata": {
        "id": "SJuh_IYkI13B",
        "colab": {
          "base_uri": "https://localhost:8080/",
          "height": 35
        },
        "outputId": "5d8e6cea-0073-447c-fcbf-76b86633c659"
      },
      "source": [
        "# 리스트 추가\n",
        "# 리스트명.append(추가요소) : 마지막에 추가\n",
        "# 리스트명.insert(인덱스, 추가요소) : 해당 인덱스에 요소 추가\n",
        "lst.append('a')\n",
        "lst.insert(0,'b')\n",
        "\n",
        "print(\"리스트 추가:\" , lst)\n",
        "\n"
      ],
      "execution_count": null,
      "outputs": [
        {
          "output_type": "stream",
          "text": [
            "리스트 추가: ['b', 10, 30, 20, 100, 200, 'a']\n"
          ],
          "name": "stdout"
        }
      ]
    },
    {
      "cell_type": "code",
      "metadata": {
        "id": "nIel5gi_I37h",
        "colab": {
          "base_uri": "https://localhost:8080/",
          "height": 35
        },
        "outputId": "7d7958b2-1d7d-4e3f-e971-511dd6705608"
      },
      "source": [
        "# 리스트 삭제\n",
        "# 리스트명.pop() : 마지막 요소 삭제\n",
        "# 리스트명.pop(인덱스) : 해당 인덱스 요소 삭제\n",
        "# 리스트명.remove(요소값) : 해당 요소값 삭제 해당 값이 없으면 오류\n",
        "lst.pop()\n",
        "lst.pop(0)\n",
        "lst.remove(100)\n",
        "lst.remove(200)\n",
        "print(f\"리스트 삭제:{lst}\")"
      ],
      "execution_count": null,
      "outputs": [
        {
          "output_type": "stream",
          "text": [
            "리스트 삭제:[10, 30, 20]\n"
          ],
          "name": "stdout"
        }
      ]
    },
    {
      "cell_type": "code",
      "metadata": {
        "id": "xT39hQmAI7T8",
        "colab": {
          "base_uri": "https://localhost:8080/",
          "height": 35
        },
        "outputId": "2218aa6c-97ce-4a31-88d9-4f9673c2d539"
      },
      "source": [
        "# 리스트 수정 \n",
        "# 리스트명[인덱스]=변경값\n",
        "lst[0] = 100\n",
        "print(f\"리스트 수정:{lst}\")"
      ],
      "execution_count": null,
      "outputs": [
        {
          "output_type": "stream",
          "text": [
            "리스트 수정:[100, 30, 20]\n"
          ],
          "name": "stdout"
        }
      ]
    },
    {
      "cell_type": "code",
      "metadata": {
        "id": "irNnwaAJI_P1",
        "colab": {
          "base_uri": "https://localhost:8080/",
          "height": 35
        },
        "outputId": "d2fde6b5-5750-4bbc-d6ba-2ec2341f4d27"
      },
      "source": [
        "# 리스트 위치 반환\n",
        "# 리스트명.index(요소값) : 해당 요소값의 위치를 반환, 없으면 오류\n",
        "print(f'20의 위치 : {lst.index(20)}')"
      ],
      "execution_count": null,
      "outputs": [
        {
          "output_type": "stream",
          "text": [
            "20의 위치 : 2\n"
          ],
          "name": "stdout"
        }
      ]
    },
    {
      "cell_type": "code",
      "metadata": {
        "id": "vSvZrT7bJCP_"
      },
      "source": [
        "# 리스트 요소 개수 구하기\n",
        "# 리스트명.count(요소값)\n",
        "print(f'20의 개수 : {lst.count(20)}')"
      ],
      "execution_count": null,
      "outputs": []
    },
    {
      "cell_type": "code",
      "metadata": {
        "id": "FDKbgIxlJFRk",
        "colab": {
          "base_uri": "https://localhost:8080/",
          "height": 35
        },
        "outputId": "4745655c-7aac-4fac-99d5-f47498994304"
      },
      "source": [
        "# 리스트 정렬\n",
        "# 리스트명.sort() : 오름차순\n",
        "# 리스트명.sort(reverse=True): 내림차순\n",
        "lst.sort()\n",
        "print(f\"리스트 정렬:{lst}\")"
      ],
      "execution_count": null,
      "outputs": [
        {
          "output_type": "stream",
          "text": [
            "리스트 정렬:[20, 30, 100]\n"
          ],
          "name": "stdout"
        }
      ]
    },
    {
      "cell_type": "code",
      "metadata": {
        "id": "7_Z6tvc5JI_z",
        "colab": {
          "base_uri": "https://localhost:8080/",
          "height": 35
        },
        "outputId": "7e12c51b-877d-4e52-e7b0-feef183f62a1"
      },
      "source": [
        "# 리스트 뒤집기\n",
        "# 리스트명.revers() : 요소를 역순으로 뒤집어 줌\n",
        "lst.reverse()\n",
        "print(f\"리스트 뒤집기:{lst}\")"
      ],
      "execution_count": null,
      "outputs": [
        {
          "output_type": "stream",
          "text": [
            "리스트 뒤집기:[100, 30, 20]\n"
          ],
          "name": "stdout"
        }
      ]
    },
    {
      "cell_type": "markdown",
      "metadata": {
        "id": "0JLMN__7LVoy"
      },
      "source": [
        "# 튜플(tuple)\n",
        "+ 튜플의 각 요소는 순서를 가지고 있음\n",
        "+ 괄호(())로 작성되며 각 요소는 쉼표(,)로 구분\n",
        "+ 요소를 추가, 수정, 삭제 불가능\n",
        "+ 한번 결정된 요소는 변경 불가능\n",
        "+ 인덱싱과 슬라이싱은 리스트와 동일\n",
        "+ $+$와 $*$연산은 리스트와 동일\n",
        "+ 각 요소에 변수 할당 가능\n",
        " - x, y = (10, 20)\n"
      ]
    },
    {
      "cell_type": "code",
      "metadata": {
        "id": "zothSnOxLpqJ",
        "colab": {
          "base_uri": "https://localhost:8080/",
          "height": 280
        },
        "outputId": "b251c46c-4773-40c8-fe5c-c4572b12471e"
      },
      "source": [
        "#튜플 \n",
        "tp = (10, 20, 30)\n",
        "\n",
        "# 인덱싱과 슬라이싱은 리스트와 동일\n",
        "print(tp[0])\n",
        "print(tp[:2])\n",
        "\n",
        "# +와 *연산은 리스트와 동일\n",
        "tp = tp*3\n",
        "print(tp)\n",
        "\n",
        "# 각 요소에 변수 할당 가능\n",
        "tpx, tpy = (10, 20)\n",
        "print(f'typx = {tpx}, tpy = {tpy}')\n",
        "\n",
        "# 요소를 추가, 수정, 삭제 불가능\n",
        "# 한번 결정된 요소는 변경 불가능\n",
        "tp[0] = 100\n"
      ],
      "execution_count": null,
      "outputs": [
        {
          "output_type": "stream",
          "text": [
            "10\n",
            "(10, 20)\n",
            "(10, 20, 30, 10, 20, 30, 10, 20, 30)\n",
            "typx = 10, tpy = 20\n"
          ],
          "name": "stdout"
        },
        {
          "output_type": "error",
          "ename": "TypeError",
          "evalue": "ignored",
          "traceback": [
            "\u001b[0;31m---------------------------------------------------------------------------\u001b[0m",
            "\u001b[0;31mTypeError\u001b[0m                                 Traceback (most recent call last)",
            "\u001b[0;32m<ipython-input-15-e0ec643c48a9>\u001b[0m in \u001b[0;36m<module>\u001b[0;34m()\u001b[0m\n\u001b[1;32m     16\u001b[0m \u001b[0;31m# 요소를 추가, 수정, 삭제 불가능\u001b[0m\u001b[0;34m\u001b[0m\u001b[0;34m\u001b[0m\u001b[0;34m\u001b[0m\u001b[0m\n\u001b[1;32m     17\u001b[0m \u001b[0;31m# 한번 결정된 요소는 변경 불가능\u001b[0m\u001b[0;34m\u001b[0m\u001b[0;34m\u001b[0m\u001b[0;34m\u001b[0m\u001b[0m\n\u001b[0;32m---> 18\u001b[0;31m \u001b[0mtp\u001b[0m\u001b[0;34m[\u001b[0m\u001b[0;36m0\u001b[0m\u001b[0;34m]\u001b[0m \u001b[0;34m=\u001b[0m \u001b[0;36m100\u001b[0m\u001b[0;34m\u001b[0m\u001b[0;34m\u001b[0m\u001b[0m\n\u001b[0m",
            "\u001b[0;31mTypeError\u001b[0m: 'tuple' object does not support item assignment"
          ]
        }
      ]
    },
    {
      "cell_type": "markdown",
      "metadata": {
        "id": "CM2AISUSpeFC"
      },
      "source": [
        "---\n",
        "## **해결문제**\n",
        "\n",
        "\n",
        "---\n",
        "밑변과 높이를 공백을 기준으로 한 줄로 입력받아 삼각형의 면적을 구하시오.\n",
        "* 예) 20 10"
      ]
    },
    {
      "cell_type": "code",
      "metadata": {
        "id": "3ZlcXY6kpuQh"
      },
      "source": [
        ""
      ],
      "execution_count": null,
      "outputs": []
    },
    {
      "cell_type": "markdown",
      "metadata": {
        "id": "AewlnK1Ppuvy"
      },
      "source": [
        "---\n",
        "### **해결문제**\n",
        "\n",
        "\n",
        "---\n",
        "회문(palindrome)은 순서를 거꾸로 읽어도 제대로 읽은 것과 같은 단어와 문장이다, 단어를 입력받아 회문인지 판별하시오."
      ]
    },
    {
      "cell_type": "code",
      "metadata": {
        "id": "Ka8e2TOipvcK"
      },
      "source": [
        ""
      ],
      "execution_count": null,
      "outputs": []
    },
    {
      "cell_type": "markdown",
      "metadata": {
        "id": "OFOPydW3p1qg"
      },
      "source": [
        "---\n",
        "### **해결문제**\n",
        "\n",
        "\n",
        "---\n",
        "자신을 제외한 모든 약수의 함이 자신과 같은 수를 완전수라고 한다. \n",
        "입력한 값이 완전수 인지 확인해 보세요.\n",
        "예) 6, 28, 496"
      ]
    },
    {
      "cell_type": "code",
      "metadata": {
        "id": "81GKUUzcp2s3"
      },
      "source": [
        ""
      ],
      "execution_count": null,
      "outputs": []
    },
    {
      "cell_type": "markdown",
      "metadata": {
        "id": "uBHGveJ7p7gI"
      },
      "source": [
        "\n",
        "---\n",
        "### **해결문제**\n",
        "\n",
        "\n",
        "---\n",
        "369게임은 3,6,9가 포함된 숫자가 나오면 박수를 치는 게임이다.\n",
        "\n",
        "이때, 해당 숫자에 여러개의 3,6,9가 포함되면 해당 개수만큼 박수를 쳐야한다.\n",
        "\n",
        "예를 들어, 36이면 2번의 박수를 쳐야한다.\n",
        "N을 입력받아서 N이전까지 박수 친 횟수를 구하시오.\n",
        "\n",
        "예) 입력: 35, 출력: 15\n"
      ]
    },
    {
      "cell_type": "code",
      "metadata": {
        "id": "JdWNIhXmp8Rp"
      },
      "source": [
        ""
      ],
      "execution_count": null,
      "outputs": []
    }
  ]
}