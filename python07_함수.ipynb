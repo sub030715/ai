{
  "nbformat": 4,
  "nbformat_minor": 0,
  "metadata": {
    "colab": {
      "name": "python07_함수.ipynb",
      "provenance": [],
      "collapsed_sections": [],
      "toc_visible": true,
      "include_colab_link": true
    },
    "kernelspec": {
      "name": "python3",
      "display_name": "Python 3"
    }
  },
  "cells": [
    {
      "cell_type": "markdown",
      "metadata": {
        "id": "view-in-github",
        "colab_type": "text"
      },
      "source": [
        "<a href=\"https://colab.research.google.com/github/cybermin/PythonLV1/blob/main/python07_%ED%95%A8%EC%88%98.ipynb\" target=\"_parent\"><img src=\"https://colab.research.google.com/assets/colab-badge.svg\" alt=\"Open In Colab\"/></a>"
      ]
    },
    {
      "cell_type": "markdown",
      "metadata": {
        "id": "0jP9qIT_TY3s"
      },
      "source": [
        "## 함수(Function)\n",
        "+ 특정 기능을 하나로 묶어서 따로 관리하기 위해 사용\n",
        " - 반복되는 내용을 효율적으로 처리\n",
        " - 코드의 가독성을 높임\n",
        "\n",
        "+ 함수의 종류\n",
        " - 내장함수 : 파이썬에서 기본으로 제공하는 함수\n",
        " - 모듈함수 : import를 해서 가져다가 사용할 수 있는 함수\n",
        " - 사용자정의함수 : 사용자가 함수를 직접\n"
      ]
    },
    {
      "cell_type": "markdown",
      "metadata": {
        "id": "qYXu9tVQUIOz"
      },
      "source": [
        "## **내장함수**\n",
        "\n",
        "+ **abs(x)** :어떤 숫자를 입력으로 받았을 때, 그 숫자의 절대값을 돌려주는 함수: abs(-1) \n",
        "+ **divmod(a, b)** :a를 b로 나눈 몫과 나머지를 튜플형태로 리턴하는함수:divmod(10, 3) \n",
        "=> (3, 1)\n",
        "+ **float(x)** :데이터를 실수로 변환:\n",
        "+ **int(x)** :문자열 형태의 숫자나 소수점이 있는 숫자 등을 정수 형태로 변환:\n",
        "+ **len(s)** :입력값s의 길이(요소의 전체 개수)를 리턴하는함수:len(\"python\"), len([1,2,3])\n",
        "+ **max(iterable)** :인수로 반복 가능한 자료형을입력받아그 최대값을 리턴하는함수:max([1, 2, 3]) , max(\"python\")\n",
        "+ **min(iterable)** :인수로 반복 가능한 자료형을입력받아그 최소값을 리턴하는함수:min([1, 2, 3]), min(\"python\")\n",
        "+ **pow(x, y)** :x의 y 제곱한 결과값을 리턴하는함수:\n",
        "+ **round(n[,nd])** :숫자를 입력받아반올림 해 주는 함수:\n",
        "+ **sorted(iterable)**:입력값을정렬한 후 그 결과를 리스트로 리턴하는함수:\n",
        "+ **str(object)** :문자열 형태로 객체를 변환하여 리턴하는함수:\n",
        "+ **sum(iterable)** :입력으로 받은 리스트나 튜플의모든 요소의 합을 리턴하는함수:\n"
      ]
    },
    {
      "cell_type": "markdown",
      "metadata": {
        "id": "m_sJzFK6Vnq4"
      },
      "source": [
        "## **사용자 정의 함수**\n",
        "* **사용자 정의 함수 구조**\n",
        "```python\n",
        "def 함수명(매개변수1, 매개변수2....) :\n",
        "    명령문\n",
        "    명령문 \n",
        "\n",
        "  return 반환값1 ....\n",
        "```\n",
        "  + 가변매개변수 \n",
        "    + 튜플 형식  : *args\n",
        "    + 딕션너리 형식 : **args \n",
        "\n",
        "\n",
        "* 함수 호출\n",
        "  + 반환값이 없을 경우 : 함수명(인수)\n",
        "  + 반환값이 있을 경우 : 변수명 = 함수명(인수)\n",
        "\n",
        "\n",
        "* **스크립트 파일이 메인 프로그램으로 사용될 때와 모듈로 사용될 때를 구분하기 위한 용도**\n",
        "```\n",
        "if __name__ == '__main__':\n",
        "     메인 수행문\n",
        "```\n",
        " "
      ]
    },
    {
      "cell_type": "code",
      "metadata": {
        "id": "tfOCxjTHS68m"
      },
      "source": [
        "def gugu(dan) :\n",
        "    for i in range(1, 10) : \n",
        "        print(f'{dan} x {i} = {dan * i}')\n"
      ],
      "execution_count": null,
      "outputs": []
    },
    {
      "cell_type": "code",
      "metadata": {
        "id": "sAbjldtoaniO",
        "colab": {
          "base_uri": "https://localhost:8080/",
          "height": 198
        },
        "outputId": "90efbdd0-f0f1-4580-81e2-540332c8ca46"
      },
      "source": [
        "dan = int(input('단입력 : '))\n",
        "gugu(dan)"
      ],
      "execution_count": null,
      "outputs": [
        {
          "output_type": "stream",
          "text": [
            "단입력 : 7\n",
            "7 x 1 = 7\n",
            "7 x 2 = 14\n",
            "7 x 3 = 21\n",
            "7 x 4 = 28\n",
            "7 x 5 = 35\n",
            "7 x 6 = 42\n",
            "7 x 7 = 49\n",
            "7 x 8 = 56\n",
            "7 x 9 = 63\n"
          ],
          "name": "stdout"
        }
      ]
    },
    {
      "cell_type": "code",
      "metadata": {
        "id": "plkTb_13dH_r",
        "colab": {
          "base_uri": "https://localhost:8080/",
          "height": 89
        },
        "outputId": "41d6d626-2741-436d-ba83-2ca712b25da7"
      },
      "source": [
        "def cal(num1, num2, op) :\n",
        "    ans = 0\n",
        "    if op == '+' : ans = num1 + num2 \n",
        "    elif op == '-' : ans = num1 - num2\n",
        "    elif op == 'x' : ans = num1 * num2\n",
        "    elif op == '/' : ans = num1 / num2\n",
        "    \n",
        "    show(num1, num2, op, ans)\n",
        "\n",
        "def numInput():\n",
        "    data = int(input('숫자를 입력하세요.'))\n",
        "    return data\n",
        "\n",
        "def strInput(msg):\n",
        "    data = input(msg)\n",
        "    return data\n",
        "\n",
        "def show(num1, num2, op, ans) :\n",
        "    print(f'{num1} {op} {num2} = {ans}')\n",
        "\n",
        "if __name__ == '__main__':  \n",
        "    num1 = numInput();\n",
        "    num2 = numInput();\n",
        "    op = strInput('연산자를 입력하세요.')\n",
        "    cal(num1,num2,op)"
      ],
      "execution_count": null,
      "outputs": [
        {
          "output_type": "stream",
          "text": [
            "숫자를 입력하세요.1\n",
            "숫자를 입력하세요.2\n",
            "연산자를 입력하세요./\n",
            "1 / 2 = 0.5\n"
          ],
          "name": "stdout"
        }
      ]
    },
    {
      "cell_type": "markdown",
      "metadata": {
        "id": "8BRDqpwVhhSb"
      },
      "source": [
        "---\n",
        "## **해결문제**\n",
        "\n",
        "\n",
        "---\n",
        "양의 정수 x가 하샤드 수이려면 x의 자릿수의 합으로 x가 나누어져야 합니다. 예를 들어 18의 자릿수 합은 1+8=9이고, 18은 9로 나누어 떨어지므로 18은 하샤드 수입니다. \n",
        "\n",
        "자연수 x를 입력받아 x가 하샤드 수이면 'O', 아니면'X'를 출력하시오.\n",
        "\n",
        "단, x는 1 이상, 10000 이하인 정수입니다.\n",
        "\n",
        "입출력 예시\n",
        "```\n",
        "입력  출력\n",
        "\n",
        "10\tO\n",
        "\n",
        "11\tX\n",
        "```"
      ]
    },
    {
      "cell_type": "code",
      "metadata": {
        "id": "NjjWrTRTuIkg"
      },
      "source": [
        "#1.정수 입력함수\n",
        "def dataIn() :\n",
        "     \n",
        "\n",
        "#2.각 자릿수 합 함수\n",
        "def dataHap(x) :\n",
        "     \n",
        "\n",
        "#3.결과 출력 함수\n",
        "def ans(x, hap) :\n",
        "     \n",
        "\n",
        "if __name__ == '__main__' :\n",
        "  x = dataIn() \n",
        "  hap = dataHap(x)\n",
        "  ans(x, hap)"
      ],
      "execution_count": null,
      "outputs": []
    },
    {
      "cell_type": "markdown",
      "metadata": {
        "id": "Imf-M3Z1unAf"
      },
      "source": [
        "## 모듈(Module)\n",
        "+ 함수나 변수 또는 클래스 들을 모아 놓은 파일\n",
        "+ 다른 파이썬 프로그램에서 불러와 사용할 수 있게끔 만들어진 파이썬 파일\n",
        "\n",
        "### 대표적 모듈\n",
        "+ matplotlib.pyplot : 시각화 모듈\n",
        "+ numpy : 수치해석 모듈\n",
        "+ pandas : 데이터 분석 모듈\n",
        "+ requests : HTTP 요청/응답 모듈\n",
        "\n",
        "### 모듈 불러오기\n",
        "+ import 모듈이름\n",
        " - 모듈 이름은  .py 확장자를 제거한 파일이름\n",
        "+ import 모듈이름 as 별명\n",
        " - 모듈 이름을 별명으로 사용\n",
        "+ from 모듈이름 import 모듈함수\n",
        " - 모듈 이름을 붙이지 않고 바로 해당 모듈의 함수\n"
      ]
    },
    {
      "cell_type": "code",
      "metadata": {
        "colab": {
          "base_uri": "https://localhost:8080/",
          "height": 265
        },
        "id": "cPk7mNksu2En",
        "outputId": "502f08e4-c458-480c-9073-7d4c97314693"
      },
      "source": [
        "import matplotlib.pyplot as plt\n",
        "\n",
        "# 기온\n",
        "temp = [10.8, 8.5, 8.7, 7.9, 5.1, \n",
        "        8.1, 8.2, 10.4, 11, 9.9, \n",
        "        7.8, 9.5, 11.6, 8.2, 7.7, \n",
        "        6.6, 11.1, 12.2, 12.6, 10.4, \n",
        "        13.7, 14.1, 12.6, 11.5, 13, \n",
        "        14.5, 13.7, 9.4, 10.4, 11.6, 12.9]\n",
        "\n",
        "plt.plot(temp)\n",
        "plt.show()"
      ],
      "execution_count": null,
      "outputs": [
        {
          "output_type": "display_data",
          "data": {
            "image/png": "[encoded data removed]",
            "text/plain": [
              "<Figure size 432x288 with 1 Axes>"
            ]
          },
          "metadata": {
            "tags": [],
            "needs_background": "light"
          }
        }
      ]
    }
  ]
}