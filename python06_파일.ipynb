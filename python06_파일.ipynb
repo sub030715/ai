{
  "nbformat": 4,
  "nbformat_minor": 0,
  "metadata": {
    "colab": {
      "name": "python06_파일.ipynb",
      "provenance": [],
      "collapsed_sections": [],
      "include_colab_link": true
    },
    "kernelspec": {
      "name": "python3",
      "display_name": "Python 3"
    }
  },
  "cells": [
    {
      "cell_type": "markdown",
      "metadata": {
        "id": "view-in-github",
        "colab_type": "text"
      },
      "source": [
        "<a href=\"https://colab.research.google.com/github/cybermin/PythonLV1/blob/main/python06_%ED%8C%8C%EC%9D%BC.ipynb\" target=\"_parent\"><img src=\"https://colab.research.google.com/assets/colab-badge.svg\" alt=\"Open In Colab\"/></a>"
      ]
    },
    {
      "cell_type": "markdown",
      "metadata": {
        "id": "zB5oLSiD0VHt"
      },
      "source": [
        "## 파일(File)\n",
        "\n",
        "![대체 텍스트](https://drive.google.com/uc?export=view&id=1sHw1gYGMC-_8BmLvxbmN1qalqxOlazMq)\n",
        " "
      ]
    },
    {
      "cell_type": "markdown",
      "metadata": {
        "id": "gbiIXGk_rceG"
      },
      "source": [
        "### **파일 생성**\n",
        "+ 파일 객체 = open(파일 이름, 파일 열기 모드, encoding='UTF-8’)\n",
        " - 한글이 포함된 파일 입력시 UnicodeDecodeError 에러가 발생하면 encoding 값을 'cp949' 사용\n",
        "\n",
        "+ 파일 열기 모드\n",
        " - r\t읽기모드 - 파일을 읽기만 할 때 사용\n",
        " - w\t쓰기모드 - 파일에 내용을 쓸 때 사용\n",
        " - a\t추가모드 - 파일의 마지막에 새로운 내용을 추가 시킬 때 사용\n"
      ]
    },
    {
      "cell_type": "markdown",
      "metadata": {
        "id": "ohdoSpRzrggX"
      },
      "source": [
        "### **파일입력 메소드**\n",
        "+ 파일객체.readline(): 파일의 첫 번째 줄을 읽어 출력하는 경우\n",
        "+ 파일객체.readlines(): 파일의 모든 라인을 읽어서 각각의 줄을 요소로 갖는 리스트로 리턴\n",
        "+ 파일객체.read(): 파일의 내용 전체를 문자열로 리턴"
      ]
    },
    {
      "cell_type": "markdown",
      "metadata": {
        "id": "ZghMR2H6rmZy"
      },
      "source": [
        "### **파일출력 메소드**\n",
        "+ 파일객체.write()"
      ]
    },
    {
      "cell_type": "markdown",
      "metadata": {
        "id": "JkWuwbWqrqEb"
      },
      "source": [
        "### **파일 종료**\n",
        "+ 파일객체.close()"
      ]
    },
    {
      "cell_type": "code",
      "metadata": {
        "colab": {
          "base_uri": "https://localhost:8080/"
        },
        "id": "5fc1K2Fvr2zk",
        "outputId": "2bf81200-2860-4f90-89ff-88f7ff3e68d9"
      },
      "source": [
        "from google.colab import drive\n",
        "drive.mount('/content/drive')"
      ],
      "execution_count": null,
      "outputs": [
        {
          "output_type": "stream",
          "text": [
            "Mounted at /content/drive\n"
          ],
          "name": "stdout"
        }
      ]
    },
    {
      "cell_type": "code",
      "metadata": {
        "id": "IM6-HWJ72mss"
      },
      "source": [
        "fp = open('/content/drive/MyDrive/AIData/PythonBasic/지역평균기온.txt', 'r', encoding='utf-8')"
      ],
      "execution_count": null,
      "outputs": []
    },
    {
      "cell_type": "code",
      "metadata": {
        "id": "LSAWTWRW2xwa"
      },
      "source": [
        "data = fp.read()"
      ],
      "execution_count": null,
      "outputs": []
    },
    {
      "cell_type": "code",
      "metadata": {
        "id": "WsIIXgqi24Ul"
      },
      "source": [
        "fp.close()"
      ],
      "execution_count": null,
      "outputs": []
    },
    {
      "cell_type": "code",
      "metadata": {
        "id": "k3ZQXWSP28vk",
        "colab": {
          "base_uri": "https://localhost:8080/"
        },
        "outputId": "b825669f-0620-406f-812c-03cbccfa3bbc"
      },
      "source": [
        "print(data)"
      ],
      "execution_count": null,
      "outputs": [
        {
          "output_type": "stream",
          "text": [
            "서울,20\n",
            "부산,26\n",
            "대구,24\n",
            "인천,24\n",
            "광주,25\n",
            "대전,22\n",
            "울산,26\n",
            "세종,23\n",
            "경기,24\n",
            "강원,23\n",
            "충북,26\n",
            "충남,22\n",
            "전북,24\n",
            "전남,23\n",
            "경북,28\n",
            "경남,29\n",
            "제주,26\n",
            "\n"
          ],
          "name": "stdout"
        }
      ]
    },
    {
      "cell_type": "code",
      "metadata": {
        "id": "l4Iz230j3S95"
      },
      "source": [
        "fp = open('/content/drive/MyDrive/AIData/PythonBasic/지역평균기온.txt', 'r', encoding='utf-8')\n",
        "data = fp.readlines()\n",
        "fp.close()"
      ],
      "execution_count": null,
      "outputs": []
    },
    {
      "cell_type": "code",
      "metadata": {
        "id": "Mi0gClpu3cc9",
        "colab": {
          "base_uri": "https://localhost:8080/"
        },
        "outputId": "67c705f5-6493-4197-e17a-fedfe0f80e65"
      },
      "source": [
        "dt = {}\n",
        "for line in data :\n",
        "    line = line.replace('\\n','')\n",
        "    items = line.split(',') \n",
        "    dt[items[0]] = int(items[1])\n",
        "\n",
        "dt"
      ],
      "execution_count": null,
      "outputs": [
        {
          "output_type": "execute_result",
          "data": {
            "text/plain": [
              "{'강원': 23,\n",
              " '경기': 24,\n",
              " '경남': 29,\n",
              " '경북': 28,\n",
              " '광주': 25,\n",
              " '대구': 24,\n",
              " '대전': 22,\n",
              " '부산': 26,\n",
              " '서울': 20,\n",
              " '세종': 23,\n",
              " '울산': 26,\n",
              " '인천': 24,\n",
              " '전남': 23,\n",
              " '전북': 24,\n",
              " '제주': 26,\n",
              " '충남': 22,\n",
              " '충북': 26}"
            ]
          },
          "metadata": {
            "tags": []
          },
          "execution_count": 7
        }
      ]
    },
    {
      "cell_type": "markdown",
      "metadata": {
        "id": "ykEQwui74KAQ"
      },
      "source": [
        "\n",
        "### **파일을 open한 후 with…as 구문이 끝나면 자동으로 close**\n",
        "```\n",
        "with open(파일 경로, 모드) as 파일 객체:\n",
        "```"
      ]
    },
    {
      "cell_type": "code",
      "metadata": {
        "id": "X0YIUXkB3iq_",
        "colab": {
          "base_uri": "https://localhost:8080/"
        },
        "outputId": "0a3f7e9e-2960-489f-8986-9384da8e9d8a"
      },
      "source": [
        "with open('/content/drive/MyDrive/AIData/PythonBasic/지역평균기온.txt', 'r', encoding='utf-8') as fp :\n",
        "    data = fp.readlines()\n",
        "\n",
        "print(data)"
      ],
      "execution_count": null,
      "outputs": [
        {
          "output_type": "stream",
          "text": [
            "['서울,20\\n', '부산,26\\n', '대구,24\\n', '인천,24\\n', '광주,25\\n', '대전,22\\n', '울산,26\\n', '세종,23\\n', '경기,24\\n', '강원,23\\n', '충북,26\\n', '충남,22\\n', '전북,24\\n', '전남,23\\n', '경북,28\\n', '경남,29\\n', '제주,26\\n']\n"
          ],
          "name": "stdout"
        }
      ]
    },
    {
      "cell_type": "markdown",
      "metadata": {
        "id": "XK6_NrV2syUr"
      },
      "source": [
        "\n",
        "---\n",
        "## **해결문제** : 파일 쓰기\n",
        "\n",
        "\n",
        "---\n",
        "전형별지원자현황 파일을 읽어서 전형별쟁률을 텍스트 파일을 작성하시오.\n",
        "\n"
      ]
    },
    {
      "cell_type": "code",
      "metadata": {
        "id": "AiAjKEjos1mK"
      },
      "source": [
        ""
      ],
      "execution_count": null,
      "outputs": []
    }
  ]
}