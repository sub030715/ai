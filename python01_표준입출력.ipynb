{
 "cells": [
  {
   "cell_type": "markdown",
   "metadata": {
    "colab_type": "text",
    "id": "view-in-github"
   },
   "source": [
    "<a href=\"https://colab.research.google.com/github/cybermin/PythonLV1/blob/main/python01_%ED%91%9C%EC%A4%80%EC%9E%85%EC%B6%9C%EB%A0%A5.ipynb\" target=\"_parent\"><img src=\"https://colab.research.google.com/assets/colab-badge.svg\" alt=\"Open In Colab\"/></a>"
   ]
  },
  {
   "cell_type": "markdown",
   "metadata": {
    "id": "jyQ32Yj0eYmC"
   },
   "source": [
    "# 파이썬(Python)\n",
    "* 1990년 암스테르담의 귀도 반 로섬(Guido Van Rossum)이 개발한 **플랫폼 독립**적인 **인터프리터** 언어 \n"
   ]
  },
  {
   "cell_type": "markdown",
   "metadata": {
    "id": "t6koqWcKtO-M"
   },
   "source": [
    "## Python 표준 입출력\n"
   ]
  },
  {
   "cell_type": "markdown",
   "metadata": {
    "id": "zanC5HSys02U"
   },
   "source": [
    "### 표준 출력 : print()"
   ]
  },
  {
   "cell_type": "code",
   "execution_count": null,
   "metadata": {
    "colab": {
     "base_uri": "https://localhost:8080/",
     "height": 107
    },
    "id": "xX0K7ri3ta-W",
    "outputId": "0b9d4c2c-f968-45c7-a5c0-99ae4481bb5b"
   },
   "outputs": [
    {
     "name": "stdout",
     "output_type": "stream",
     "text": [
      "Hello \n",
      "World!\n",
      "Hello World!\n",
      "Hello  World!\n",
      "Hello World!\n"
     ]
    }
   ],
   "source": [
    "# 표준 출력\n",
    "print('Hello ')\n",
    "print(\"World!\")\n",
    "\n",
    "# 한줄 연결 출력\n",
    "print('Hello', end=' ')\n",
    "print('World!')\n",
    "\n",
    "print('Hello ', 'World!')\n",
    "print('Hello '+ 'World!')"
   ]
  },
  {
   "cell_type": "markdown",
   "metadata": {
    "id": "ySffQb8LzPjE"
   },
   "source": [
    "+ 이스케이프 시퀀스(escape sequence)\n",
    "  + \\와 특정 문자를 결합하여 문자를 표시해 주는 문자\n",
    "  + \\\\ : \\\\\n",
    "  + \\’ : 작은 따옴표\n",
    "  + \\” : 큰 따옴표\n",
    "  + \\n : 개행(엔터)\n",
    "  + \\t : 탭"
   ]
  },
  {
   "cell_type": "code",
   "execution_count": null,
   "metadata": {
    "colab": {
     "base_uri": "https://localhost:8080/",
     "height": 35
    },
    "id": "aF3ieWpIz61U",
    "outputId": "036b900c-6189-464f-87e1-942af47af8ab"
   },
   "outputs": [
    {
     "name": "stdout",
     "output_type": "stream",
     "text": [
      "Hello\tWorld!\n"
     ]
    }
   ],
   "source": [
    "print('Hello\\tWorld!')"
   ]
  },
  {
   "cell_type": "markdown",
   "metadata": {
    "id": "HIPLc6AVubls"
   },
   "source": [
    "### 표준 입력 :input('메시지')\n",
    "+ 문자열 입력\n",
    "+ 정수 입력 : int() 함수로 형변환\n",
    "+ 실수 입력 : float() 함수로 형변환 "
   ]
  },
  {
   "cell_type": "code",
   "execution_count": null,
   "metadata": {
    "colab": {
     "base_uri": "https://localhost:8080/",
     "height": 53
    },
    "id": "i_sh0Uuiuh6v",
    "outputId": "cf1737f3-0456-4d6f-daf3-15b7e820f49c"
   },
   "outputs": [
    {
     "name": "stdout",
     "output_type": "stream",
     "text": [
      "5\n"
     ]
    },
    {
     "data": {
      "text/plain": [
       "'5'"
      ]
     },
     "execution_count": 4,
     "metadata": {
      "tags": []
     },
     "output_type": "execute_result"
    }
   ],
   "source": [
    "x = input()\n",
    "x"
   ]
  },
  {
   "cell_type": "code",
   "execution_count": null,
   "metadata": {
    "colab": {
     "base_uri": "https://localhost:8080/",
     "height": 53
    },
    "id": "tcnwyJsyvzAd",
    "outputId": "c9a9f337-6061-42de-a135-1494338c779a"
   },
   "outputs": [
    {
     "name": "stdout",
     "output_type": "stream",
     "text": [
      "실수입력10\n"
     ]
    },
    {
     "data": {
      "text/plain": [
       "10.0"
      ]
     },
     "execution_count": 5,
     "metadata": {
      "tags": []
     },
     "output_type": "execute_result"
    }
   ],
   "source": [
    "y = float(input('실수입력'))\n",
    "y"
   ]
  },
  {
   "cell_type": "markdown",
   "metadata": {
    "id": "pr-vjQghvgW4"
   },
   "source": [
    "\n",
    "\n",
    "---\n",
    "해결문제) 두 정수를 입력 받아서 사칙연산 수행\n",
    "\n",
    "\n",
    "---\n",
    "\n"
   ]
  },
  {
   "cell_type": "code",
   "execution_count": null,
   "metadata": {
    "colab": {
     "base_uri": "https://localhost:8080/",
     "height": 162
    },
    "id": "1CVvRtEmvWxS",
    "outputId": "66f0d00b-65d5-4b2a-a490-e41c0a3e3f8c"
   },
   "outputs": [
    {
     "name": "stdout",
     "output_type": "stream",
     "text": [
      "첫번째 정수 입력10\n",
      "두번째 정수 입력3\n",
      "10 + 3  =  13\n",
      "10 - 3  =  7\n",
      "10 x 3  =  30\n",
      "10 / 3  =  3.3333333333333335\n",
      "10 / 3  나눈 몫 :  3\n",
      "10 / 3  나눈 나머지 :  1\n"
     ]
    }
   ],
   "source": [
    "x = int(input('첫번째 정수 입력'))\n",
    "y = int(input('두번째 정수 입력'))\n",
    "\n",
    "\n",
    "#연산 수행\n",
    "print( x , '+' , y , ' = ', (x+y))\n",
    "print( x , '-' , y , ' = ', (x-y))\n",
    "print( x , 'x' , y , ' = ', (x*y))\n",
    "print( x , '/' , y , ' = ', (x/y))\n",
    "print( x , '/' , y , ' 나눈 몫 : ', (x//y))\n",
    "print( x , '/' , y , ' 나눈 나머지 : ', (x%y))"
   ]
  },
  {
   "cell_type": "markdown",
   "metadata": {
    "id": "u0ravbEeyxX0"
   },
   "source": [
    "### f-string 사용 : Python 신규 버전(3.6 이상) 부터 제공되는 기능\n",
    "'f' 라는 접두사를 통해 간단하게 사용 가능\n"
   ]
  },
  {
   "cell_type": "code",
   "execution_count": null,
   "metadata": {
    "colab": {
     "base_uri": "https://localhost:8080/",
     "height": 125
    },
    "id": "JJlbsmo9wiuo",
    "outputId": "50880ac5-0194-4e76-df8d-6628f2a7da7e"
   },
   "outputs": [
    {
     "name": "stdout",
     "output_type": "stream",
     "text": [
      "10 + 3 = 13\n",
      "10 - 3 = 7\n",
      "10 x 3 = 30\n",
      "10 / 3 = 3.3333333333333335\n",
      "10 / 3 나눈 몫 : 3\n",
      "10 / 3 나눈 나머지 : 1\n"
     ]
    }
   ],
   "source": [
    "#f-string 사용\n",
    "print(f'{x} + {y} = {x+y}')\n",
    "print(f'{x} - {y} = {x-y}')\n",
    "print(f'{x} x {y} = {x*y}')\n",
    "print(f'{x} / {y} = {x/y}')\n",
    "print(f'{x} / {y} 나눈 몫 : {x//y}')\n",
    "print(f'{x} / {y} 나눈 나머지 : {x%y}')"
   ]
  },
  {
   "cell_type": "markdown",
   "metadata": {
    "id": "1DPckIpgxY9H"
   },
   "source": [
    "## 변수\n",
    "+ **어떤 값을 저장하는 공간**\n",
    " - 어떤 데이터가 있을 때 그 데이터가 메모리 상에 위치하는 주소를 변수라는 곳에 저장해두고, 나중에 변수에 저장된 메모리 상의 주소에 가서 실제 값을 읽을 수 있는 것\n",
    "+ **Python은 기본적으로 인터프리터(interpreter)를 통해 실행되는 스크립트 언어**\n",
    " - 변수를 선언할 때 타입을 지정하지 않음\n",
    " - 값을 할당하면 그때 동적으로 타입이 정해짐\n",
    " - 타입이 다를 경우 형 변환을 해줘야 연산에 사용할 수 있음\n",
    "+ **변수 명 규칙**\n",
    " - 영문 문자와 숫자 사용 :  대소문자 구분\n",
    " - 문자나 _(밑줄 문자)로 시작 : 숫자부터 시작하면 안 됨\n",
    " - 특수 문자(+, -, *, /, $, @, &, % 등)는 사용할 수 없음\n",
    " - python 키워드(if, for, while, and, or 등)는 사용할 수 없음"
   ]
  },
  {
   "cell_type": "markdown",
   "metadata": {
    "id": "7Njf7yA10UQM"
   },
   "source": [
    "\n",
    "\n",
    "---\n",
    "해결문제)\n",
    "\n",
    "BMI는 몸무게와 키를 이용하여 체지방율을 측정하는 지수이다. 자신의 몸무게와 키를 입력 받아 각각 변수 weight와 height에 저장하고 BMI지수를 계산해 본다. 단, 키는 cm로 입력 받아서 처리한다.\n",
    "+ BMI = 체중(kg) / (키(m) x키(m)) \n",
    "\n",
    "\n",
    "---\n",
    "\n",
    "\n"
   ]
  },
  {
   "cell_type": "code",
   "execution_count": null,
   "metadata": {
    "id": "VarGsE6KN8Gz"
   },
   "outputs": [],
   "source": []
  },
  {
   "cell_type": "markdown",
   "metadata": {
    "id": "-LgmrU4t0yCY"
   },
   "source": [
    "\n",
    "---\n",
    "해결문제)\n",
    "\n",
    "환율 계산기를 작성하시오.\n",
    "+ 입력 \n",
    " - 1달러 환율 입력 \n",
    " - 원화입력\n",
    "+ 출력\n",
    " - 환전 달러 \n",
    "\n",
    "\n",
    "---\n"
   ]
  },
  {
   "cell_type": "code",
   "execution_count": null,
   "metadata": {
    "id": "J4D-xZTJN8r7"
   },
   "outputs": [],
   "source": []
  }
 ],
 "metadata": {
  "colab": {
   "include_colab_link": true,
   "name": "python01_표준입출력.ipynb",
   "provenance": [],
   "toc_visible": true
  },
  "kernelspec": {
   "display_name": "Python 3",
   "language": "python",
   "name": "python3"
  },
  "language_info": {
   "codemirror_mode": {
    "name": "ipython",
    "version": 3
   },
   "file_extension": ".py",
   "mimetype": "text/x-python",
   "name": "python",
   "nbconvert_exporter": "python",
   "pygments_lexer": "ipython3",
   "version": "3.7.10"
  }
 },
 "nbformat": 4,
 "nbformat_minor": 1
}
